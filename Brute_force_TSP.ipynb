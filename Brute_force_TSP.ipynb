{
 "cells": [
  {
   "cell_type": "markdown",
   "metadata": {},
   "source": [
    "## Brute-force approach"
   ]
  },
  {
   "cell_type": "code",
   "execution_count": 29,
   "metadata": {},
   "outputs": [],
   "source": [
    "import functools\n",
    "import numpy as np\n",
    "\n",
    "from tqdm.auto import tqdm\n",
    "from icecream import ic\n",
    "import pandas as pd\n",
    "from geopy.distance import geodesic"
   ]
  },
  {
   "cell_type": "code",
   "execution_count": 30,
   "metadata": {},
   "outputs": [],
   "source": [
    "def get_coodinates(df,city):\n",
    "    city_row = df[df['City'] == city]\n",
    "    X_cord = city_row['X'].values[0]\n",
    "    Y_cord = city_row['Y'].values[0]\n",
    "    return X_cord,Y_cord\n",
    "\n",
    "def distance(city1, city2,df):\n",
    "    x1,y1 = get_coodinates(df,city1)\n",
    "    x2,y2 = get_coodinates(df,city2)\n",
    "    return geodesic((x1,y1),(x2,y2)).km\n"
   ]
  },
  {
   "cell_type": "code",
   "execution_count": 31,
   "metadata": {},
   "outputs": [],
   "source": [
    "def compute_centroid(cities):\n",
    "    centroid_lat = cities['X'].mean()\n",
    "    centroid_lon = cities['Y'].mean()\n",
    "    centroid = (centroid_lat, centroid_lon)\n",
    "    return centroid"
   ]
  },
  {
   "cell_type": "code",
   "execution_count": 32,
   "metadata": {},
   "outputs": [
    {
     "data": {
      "application/vnd.jupyter.widget-view+json": {
       "model_id": "416079efdfce44a183e4209233cc262a",
       "version_major": 2,
       "version_minor": 0
      },
      "text/plain": [
       "  0%|          | 0/7 [00:00<?, ?it/s]"
      ]
     },
     "metadata": {},
     "output_type": "display_data"
    },
    {
     "name": "stdout",
     "output_type": "stream",
     "text": [
      "Isangel -> Vila = 223.00475078893413 Km\n",
      "Vila -> Lakatoro = 206.73999705909532 Km\n",
      "Lakatoro -> Norsup = 2.458237855964039 Km\n",
      "Norsup -> Luganville = 67.09129555835896 Km\n",
      "Luganville -> Port Olry = 52.02059578889833 Km\n",
      "Port Olry -> Longana = 105.77063570044383 Km\n",
      "Longana -> Sola = 165.48511208446135 Km\n",
      "Sola -> Isangel = 652.9574662683754 Km\n",
      "Total distance = 1475.528091104531 Km in 28 steps\n"
     ]
    }
   ],
   "source": [
    "columns_name= ['City','X','Y']\n",
    "cities_df = pd.read_csv('~/Computational_Intelligence/labs/lab2/cities/vanuatu.csv',header=None, names=columns_name)\n",
    "cities = cities_df['City'].tolist()\n",
    "\n",
    "visited = np.full(len(cities_df), False)\n",
    "\n",
    "start = np.random.choice(cities)\n",
    "starting_point = start.copy()\n",
    "visited[cities.index(start)] = True\n",
    "\n",
    "final_path = []\n",
    "final_dist = 0.0\n",
    "\n",
    "steps = 0\n",
    "\n",
    "for _ in tqdm(cities[:-1]):\n",
    "    min_dist = np.inf\n",
    "    min_city = None\n",
    "    for city in cities:\n",
    "        if not visited[cities.index(city)]:\n",
    "            steps += 1\n",
    "            dist = distance(start,city,cities_df)\n",
    "            if dist < min_dist:\n",
    "                min_dist = dist\n",
    "                min_city = city\n",
    "    final_path.append((start,min_city,min_dist))\n",
    "    start = min_city\n",
    "    visited[cities.index(start)] = True\n",
    "\n",
    "final_path.append((start,starting_point,distance(start,starting_point,cities_df)))\n",
    "\n",
    "for c1,c2,dist in final_path:\n",
    "    print(f'{c1} -> {c2} = {dist} Km')\n",
    "    final_dist += dist\n",
    "\n",
    "print(f'Total distance = {final_dist} Km in {steps} steps')"
   ]
  }
 ],
 "metadata": {
  "kernelspec": {
   "display_name": "CI2024V2",
   "language": "python",
   "name": "python3"
  },
  "language_info": {
   "codemirror_mode": {
    "name": "ipython",
    "version": 3
   },
   "file_extension": ".py",
   "mimetype": "text/x-python",
   "name": "python",
   "nbconvert_exporter": "python",
   "pygments_lexer": "ipython3",
   "version": "3.12.7"
  }
 },
 "nbformat": 4,
 "nbformat_minor": 2
}
